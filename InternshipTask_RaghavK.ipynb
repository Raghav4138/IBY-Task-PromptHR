{
  "cells": [
    {
      "cell_type": "code",
      "execution_count": 1,
      "metadata": {
        "colab": {
          "base_uri": "https://localhost:8080/"
        },
        "id": "3WnzYj_tKsfn",
        "outputId": "ab9ec0d1-ebba-4b24-bb46-f39cbbf13b9e"
      },
      "outputs": [
        {
          "name": "stdout",
          "output_type": "stream",
          "text": [
            "Drive already mounted at /content/drive; to attempt to forcibly remount, call drive.mount(\"/content/drive\", force_remount=True).\n"
          ]
        }
      ],
      "source": [
        "# Mounting Google Drive to access files in Colab\n",
        "from google.colab import drive\n",
        "drive.mount('/content/drive')\n",
        "\n",
        "# Importing the libraries we need for our project\n",
        "import pandas as pd\n",
        "import numpy as np\n",
        "import matplotlib.pyplot as plt\n",
        "import seaborn as sns\n",
        "import os\n",
        "from google.colab import files\n",
        "from textblob import TextBlob\n",
        "import spacy\n",
        "from collections import Counter\n",
        "from wordcloud import WordCloud\n",
        "from sklearn.cluster import KMeans\n",
        "from sklearn.feature_extraction.text import CountVectorizer"
      ]
    },
    {
      "cell_type": "code",
      "execution_count": 2,
      "metadata": {
        "colab": {
          "base_uri": "https://localhost:8080/"
        },
        "id": "z6F3PwPM3EYj",
        "outputId": "77bc367e-bb02-462c-c2d3-be588d777c53"
      },
      "outputs": [
        {
          "name": "stdout",
          "output_type": "stream",
          "text": [
            "Requirement already satisfied: openai==0.28 in /usr/local/lib/python3.10/dist-packages (0.28.0)\n",
            "Requirement already satisfied: requests>=2.20 in /usr/local/lib/python3.10/dist-packages (from openai==0.28) (2.32.3)\n",
            "Requirement already satisfied: tqdm in /usr/local/lib/python3.10/dist-packages (from openai==0.28) (4.66.5)\n",
            "Requirement already satisfied: aiohttp in /usr/local/lib/python3.10/dist-packages (from openai==0.28) (3.10.5)\n",
            "Requirement already satisfied: charset-normalizer<4,>=2 in /usr/local/lib/python3.10/dist-packages (from requests>=2.20->openai==0.28) (3.3.2)\n",
            "Requirement already satisfied: idna<4,>=2.5 in /usr/local/lib/python3.10/dist-packages (from requests>=2.20->openai==0.28) (3.10)\n",
            "Requirement already satisfied: urllib3<3,>=1.21.1 in /usr/local/lib/python3.10/dist-packages (from requests>=2.20->openai==0.28) (2.0.7)\n",
            "Requirement already satisfied: certifi>=2017.4.17 in /usr/local/lib/python3.10/dist-packages (from requests>=2.20->openai==0.28) (2024.8.30)\n",
            "Requirement already satisfied: aiohappyeyeballs>=2.3.0 in /usr/local/lib/python3.10/dist-packages (from aiohttp->openai==0.28) (2.4.0)\n",
            "Requirement already satisfied: aiosignal>=1.1.2 in /usr/local/lib/python3.10/dist-packages (from aiohttp->openai==0.28) (1.3.1)\n",
            "Requirement already satisfied: attrs>=17.3.0 in /usr/local/lib/python3.10/dist-packages (from aiohttp->openai==0.28) (24.2.0)\n",
            "Requirement already satisfied: frozenlist>=1.1.1 in /usr/local/lib/python3.10/dist-packages (from aiohttp->openai==0.28) (1.4.1)\n",
            "Requirement already satisfied: multidict<7.0,>=4.5 in /usr/local/lib/python3.10/dist-packages (from aiohttp->openai==0.28) (6.1.0)\n",
            "Requirement already satisfied: yarl<2.0,>=1.0 in /usr/local/lib/python3.10/dist-packages (from aiohttp->openai==0.28) (1.11.1)\n",
            "Requirement already satisfied: async-timeout<5.0,>=4.0 in /usr/local/lib/python3.10/dist-packages (from aiohttp->openai==0.28) (4.0.3)\n",
            "Requirement already satisfied: typing-extensions>=4.1.0 in /usr/local/lib/python3.10/dist-packages (from multidict<7.0,>=4.5->aiohttp->openai==0.28) (4.12.2)\n"
          ]
        }
      ],
      "source": [
        "# Install the OpenAI Python client at version 0.28\n",
        "!pip install openai==0.28\n",
        "\n",
        "# Importing the libraries we need for working with OpenAI and transformers\n",
        "import openai\n",
        "import os\n",
        "from transformers import GPT2LMHeadModel, GPT2Tokenizer\n",
        "\n",
        "# Set your OpenAI API key (make sure to replace with your actual API key)\n",
        "os.environ[\"OPENAI_API_KEY\"] = \"your_api_key_by_openAI\"\n",
        "\n",
        "# Make sure the key is available for OpenAI functions\n",
        "openai.api_key = os.getenv(\"OPENAI_API_KEY\")"
      ]
    },
    {
      "cell_type": "code",
      "execution_count": 3,
      "metadata": {
        "id": "qUKBQmmgyOJ8"
      },
      "outputs": [],
      "source": [
        "# Load the spaCy model for keyword extraction\n",
        "nlp = spacy.load('en_core_web_sm')  # This loads a small English model for processing text"
      ]
    },
    {
      "cell_type": "code",
      "execution_count": 4,
      "metadata": {
        "id": "LwGuaP7zF5d3"
      },
      "outputs": [],
      "source": [
        "# Creating the basic structure as a Python script that can later be converted into a Jupyter Notebook\n",
        "\n",
        "# Introduction: Load necessary libraries\n",
        "def introduction():\n",
        "    print(\"This notebook is designed to evaluate candidates' introduction videos using emotion scores, transcript scores, and transcript text.\")\n",
        "\n",
        "# Load & Preprocess Data\n",
        "def load_and_preprocess_data():\n",
        "    \"\"\"\n",
        "    Loads and preprocesses data from specified directories in Google Drive.\n",
        "    It retrieves emotion data, transcript scores, and transcript text for analysis.\n",
        "    Returns three lists containing the loaded data.\n",
        "    \"\"\"\n",
        "    emotion_data_dir = \"/content/drive/MyDrive/I'mBesideYou/emotion_data\"\n",
        "    transcript_data_dir = \"/content/drive/MyDrive/I'mBesideYou/transcript_data\"\n",
        "    transcript_text_dir = \"/content/drive/MyDrive/I'mBesideYou/transcripts\"\n",
        "\n",
        "    emotion_data = []\n",
        "    transcript_data = []\n",
        "    transcript_text = []\n",
        "\n",
        "    for folder in os.listdir(emotion_data_dir):\n",
        "        emotion_csv_path = os.path.join(emotion_data_dir, folder, 'emotion.csv')\n",
        "        gaze_csv_path = os.path.join(emotion_data_dir, folder, 'gaze.csv')\n",
        "        metadata_csv_path = os.path.join(emotion_data_dir, folder, 'metadata.csv')\n",
        "\n",
        "        if os.path.exists(emotion_csv_path) and os.path.exists(gaze_csv_path) and os.path.exists(metadata_csv_path):\n",
        "            emotion_csv = pd.read_csv(emotion_csv_path)\n",
        "            gaze_csv = pd.read_csv(gaze_csv_path)\n",
        "            metadata_csv = pd.read_csv(metadata_csv_path)\n",
        "            emotion_data.append({'emotion': emotion_csv, 'gaze': gaze_csv, 'metadata': metadata_csv})\n",
        "\n",
        "    for file in os.listdir(transcript_data_dir):\n",
        "        if file.endswith('.csv'):\n",
        "            transcript_scores = pd.read_csv(os.path.join(transcript_data_dir, file))\n",
        "            transcript_data.append(transcript_scores)\n",
        "\n",
        "    for file in os.listdir(transcript_text_dir):\n",
        "        if file.endswith('.txt'):\n",
        "            with open(os.path.join(transcript_text_dir, file), 'r') as f:\n",
        "                transcript_text.append(f.read())\n",
        "\n",
        "    return emotion_data, transcript_data, transcript_text\n"
      ]
    },
    {
      "cell_type": "code",
      "execution_count": 5,
      "metadata": {
        "id": "sWv8_gljLmxw"
      },
      "outputs": [],
      "source": [
        "# Perform EDA on Emotion Scores\n",
        "def eda_emotion_data(emotion_data, plot_count, show_plots=False):\n",
        "    \"\"\"\n",
        "    Conducts exploratory data analysis on emotion scores for each candidate.\n",
        "    Generates line plots of emotion data and saves them as PNG files if requested.\n",
        "    \"\"\"\n",
        "    for idx, candidate in enumerate(emotion_data, start=plot_count):\n",
        "        emotion_df = candidate['emotion']\n",
        "\n",
        "        if show_plots:\n",
        "            plt.figure(figsize=(10, 6))\n",
        "            sns.lineplot(data=emotion_df)\n",
        "            plt.title(f\"Emotion Data Overview for Candidate {idx}\")\n",
        "            plt.xlabel(\"Time\")\n",
        "            plt.ylabel(\"Emotion Score\")\n",
        "            plt.savefig(f'emotion_plot_{idx}.png')\n",
        "            plt.close()\n",
        "            plt.show()\n",
        "\n",
        "# Perform EDA on Transcript Data\n",
        "def eda_transcript_data(transcript_data, plot_count, show_plots=False):\n",
        "    \"\"\"\n",
        "    Performs exploratory data analysis on transcript data, including speech speed and emotion scores.\n",
        "    Generates and saves histograms and box plots for various attributes if requested.\n",
        "    \"\"\"\n",
        "    for plot_count, transcript in enumerate(transcript_data, start=1):\n",
        "        if show_plots:\n",
        "            plt.figure(figsize=(8, 4))\n",
        "            sns.histplot(transcript['speech_speed'], kde=True, bins=20)\n",
        "            plt.title(f\"Speech Speed Distribution - Candidate {plot_count}\")\n",
        "            plt.xlabel(\"Speech Speed\")\n",
        "            plt.ylabel(\"Frequency\")\n",
        "            plt.savefig(f'speech_speed_plot_{plot_count}.png')\n",
        "            plt.show()\n",
        "\n",
        "            plt.figure(figsize=(10, 6))\n",
        "            sns.boxplot(data=transcript[['positive', 'negative', 'neutral']])\n",
        "            plt.title(f\"Emotion Scores Distribution - Candidate {plot_count}\")\n",
        "            plt.xlabel(\"Emotion Type\")\n",
        "            plt.ylabel(\"Score\")\n",
        "            plt.savefig(f'emotion_scores_plot_{plot_count}.png')\n",
        "            plt.show()\n",
        "\n",
        "            plt.figure(figsize=(8, 4))\n",
        "            sns.histplot(transcript['confident'], kde=True, color='green', label='Confident')\n",
        "            sns.histplot(transcript['hesitant'], kde=True, color='red', label='Hesitant')\n",
        "            plt.title(f\"Confident vs Hesitant Distribution - Candidate {plot_count}\")\n",
        "            plt.xlabel(\"Score\")\n",
        "            plt.ylabel(\"Frequency\")\n",
        "            plt.legend()\n",
        "            plt.savefig(f'confident_hesitant_plot_{plot_count}.png')\n",
        "            plt.show()\n",
        "\n",
        "            plt.figure(figsize=(8, 4))\n",
        "            sns.histplot(transcript['concise'], kde=True, color='blue', label='Concise')\n",
        "            sns.histplot(transcript['enthusiastic'], kde=True, color='orange', label='Enthusiastic')\n",
        "            plt.title(f\"Conciseness vs Enthusiasm Distribution - Candidate {plot_count}\")\n",
        "            plt.xlabel(\"Score\")\n",
        "            plt.ylabel(\"Frequency\")\n",
        "            plt.legend()\n",
        "            plt.savefig(f'concise_enthusiastic_plot_{plot_count}.png')\n",
        "            plt.show()"
      ]
    },
    {
      "cell_type": "code",
      "execution_count": 6,
      "metadata": {
        "id": "Zw7Vd2i9LuIx"
      },
      "outputs": [],
      "source": [
        "# Analyzing the transcript text\n",
        "def eda_transcript_text(transcript_text, show_plots=False):\n",
        "    \"\"\"\n",
        "    Generates and displays a word cloud for each transcript text.\n",
        "    Displays the word cloud if requested.\n",
        "    \"\"\"\n",
        "    for text in transcript_text:\n",
        "        if show_plots:\n",
        "            wordcloud = WordCloud(width=800, height=400).generate(text)\n",
        "            plt.figure(figsize=(10, 5))\n",
        "            plt.imshow(wordcloud, interpolation='bilinear')\n",
        "            plt.axis('off')\n",
        "            plt.show()\n",
        "\n",
        "# Sentiment Analysis\n",
        "def analyze_sentiment(transcript_text):\n",
        "    \"\"\"\n",
        "    Analyzes sentiment polarity for each transcript text using TextBlob.\n",
        "    Returns a list of sentiment scores ranging from -1 (negative) to 1 (positive).\n",
        "    \"\"\"\n",
        "    sentiment_scores = []\n",
        "    for text in transcript_text:\n",
        "        analysis = TextBlob(text)\n",
        "        sentiment_scores.append(analysis.sentiment.polarity)\n",
        "    return sentiment_scores\n",
        "\n",
        "# Keyword Extraction\n",
        "def extract_keywords(transcript_text):\n",
        "    \"\"\"\n",
        "    Extracts and counts the most common keywords from the transcript text.\n",
        "    Returns a list of the top 10 keywords after removing stopwords and non-alphabetic tokens.\n",
        "    \"\"\"\n",
        "    keywords = []\n",
        "    for text in transcript_text:\n",
        "        doc = nlp(text)\n",
        "        keywords.extend([token.lemma_ for token in doc if token.is_alpha and not token.is_stop])\n",
        "    return Counter(keywords).most_common(10)\n",
        "\n",
        "# Clustering Candidates\n",
        "def cluster_candidates(transcript_data, n_clusters):\n",
        "    \"\"\"\n",
        "    Clusters candidates based on average speech speed and emotion scores.\n",
        "    Returns an array of cluster labels corresponding to each candidate.\n",
        "    \"\"\"\n",
        "    features = []\n",
        "    for transcript in transcript_data:\n",
        "        features.append([transcript['speech_speed'].mean(), transcript['confident'].mean(), transcript['hesitant'].mean()])\n",
        "\n",
        "    kmeans = KMeans(n_clusters=n_clusters)\n",
        "    clusters = kmeans.fit_predict(features)\n",
        "    return clusters\n",
        "\n",
        "# Conclusion\n",
        "def conclusion():\n",
        "    \"\"\"\n",
        "    Prints a concluding statement summarizing the analysis process.\n",
        "    Indicates that decisions can be made based on the analysis.\n",
        "    \"\"\"\n",
        "    print(\"This concludes the analysis. Based on the EDA and prompt engineering, recruitment decisions can be made.\")\n",
        "\n",
        "# Download all saved plots\n",
        "def download_all_plots(plot_count):\n",
        "    \"\"\"\n",
        "    Downloads all saved plot images based on the provided plot count.\n",
        "    Notifies if a file does not exist for any given plot.\n",
        "    \"\"\"\n",
        "    for i in range(1, plot_count + 1):\n",
        "        filenames = [\n",
        "            f'emotion_plot_{i}.png',\n",
        "            f'speech_speed_plot_{i}.png',\n",
        "            f'emotion_scores_plot_{i}.png',\n",
        "            f'confident_hesitant_plot_{i}.png',\n",
        "            f'concise_enthusiastic_plot_{i}.png'\n",
        "        ]\n",
        "        for filename in filenames:\n",
        "            if os.path.isfile(filename):\n",
        "                files.download(filename)\n",
        "            else:\n",
        "                print(f\"File {filename} does not exist.\")"
      ]
    },
    {
      "cell_type": "code",
      "execution_count": 7,
      "metadata": {
        "id": "q8tfLQdvLwS3"
      },
      "outputs": [],
      "source": [
        "# Summarize actionable insights\n",
        "\n",
        "# Function to analyze transcript text using a specified model\n",
        "def analyze_transcript(transcript_text, model=\"gpt-2\"):\n",
        "    \"\"\"\n",
        "    Analyzes the provided transcript text for insights using the specified model.\n",
        "    Supports both GPT-2 and OpenAI models for generating responses.\n",
        "    \"\"\"\n",
        "    if model == \"gpt-2\":\n",
        "        from transformers import GPT2LMHeadModel, GPT2Tokenizer\n",
        "\n",
        "        model_name = \"gpt2\"\n",
        "        tokenizer = GPT2Tokenizer.from_pretrained(model_name)\n",
        "        model = GPT2LMHeadModel.from_pretrained(model_name)\n",
        "\n",
        "        tokenizer.pad_token = tokenizer.eos_token\n",
        "\n",
        "        input_text = f\"Analyze the following transcript text for insights: {transcript_text}\"\n",
        "        inputs = tokenizer.encode_plus(input_text, return_tensors='pt', padding=True, truncation=True)\n",
        "\n",
        "        outputs = model.generate(\n",
        "            inputs['input_ids'],\n",
        "            max_length=500,  # Increase this if needed\n",
        "            attention_mask=inputs['attention_mask']\n",
        "        )\n",
        "        response = tokenizer.decode(outputs[0], skip_special_tokens=True)\n",
        "        return response\n",
        "    elif model in [\"gpt-3.5-turbo\", \"text-davinci-003\"]:\n",
        "        response = openai.ChatCompletion.create(\n",
        "            model=model,\n",
        "            messages=[{\"role\": \"user\", \"content\": f\"Analyze the following transcript text for insights: {transcript_text}\"}]\n",
        "        )\n",
        "        return response['choices'][0]['message']['content']\n",
        "    else:\n",
        "        raise ValueError(\"Model not supported\")\n",
        "\n",
        "# Update actionable insights function to use the new analysis function\n",
        "def actionable_insights(emotion_data, transcript_data, transcript_text, model=\"gpt-3.5-turbo\"):\n",
        "    \"\"\"\n",
        "    Generates actionable insights for each candidate based on emotion scores,\n",
        "    speech speed, and transcript analysis. Provides recruitment recommendations.\n",
        "    \"\"\"\n",
        "    for idx, (candidate_emotion, candidate_transcript, candidate_text) in enumerate(zip(emotion_data, transcript_data, transcript_text)):\n",
        "        emotion_scores = candidate_emotion['emotion']\n",
        "\n",
        "        avg_positive = emotion_scores['happy'].mean()\n",
        "        avg_negative = emotion_scores['sad'].mean()\n",
        "        speech_speed = candidate_transcript['speech_speed'].mean()\n",
        "\n",
        "        # Analyze sentiment with the specified model\n",
        "        transcript_analysis = analyze_transcript(candidate_text, model)\n",
        "\n",
        "        print(f\"Candidate {idx + 1} Insights:\")\n",
        "\n",
        "        if avg_positive > avg_negative and speech_speed > 2.0:\n",
        "            print(\"Recommendation: Recruit\")\n",
        "            print(\"Reason: Positive emotion scores and acceptable pacing.\")\n",
        "        else:\n",
        "            print(\"Recommendation: Do not recruit\")\n",
        "            print(\"Reason: Low positive emotion scores or poor pacing.\")\n",
        "\n",
        "        print(f\"Average Speech Speed: {speech_speed:.2f} (words per minute)\")\n",
        "        print(f\"Transcript Analysis: {transcript_analysis}\")\n"
      ]
    },
    {
      "cell_type": "code",
      "execution_count": 8,
      "metadata": {
        "colab": {
          "base_uri": "https://localhost:8080/"
        },
        "collapsed": true,
        "id": "OAtwadzrF7nz",
        "outputId": "9ff4b3dd-4217-4acb-a184-34344375ffd8"
      },
      "outputs": [
        {
          "name": "stdout",
          "output_type": "stream",
          "text": [
            "This notebook is designed to evaluate candidates' introduction videos using emotion scores, transcript scores, and transcript text.\n",
            "Sentiment Scores: [0.16197478991596637, 0.2554226475279107, -0.09755366161616164, 0.14175347222222223, 0.07088744588744589, 0.029500891265597157, 0.33, 0.06642857142857142, 0.1441786283891547, 0.21130050505050504]\n",
            "Candidate Clusters: [2 0 2 0 1 0 0 2 0 1]\n"
          ]
        },
        {
          "name": "stderr",
          "output_type": "stream",
          "text": [
            "/usr/local/lib/python3.10/dist-packages/sklearn/cluster/_kmeans.py:1416: FutureWarning: The default value of `n_init` will change from 10 to 'auto' in 1.4. Set the value of `n_init` explicitly to suppress the warning\n",
            "  super()._check_params_vs_input(X, default_n_init=10)\n",
            "/usr/local/lib/python3.10/dist-packages/huggingface_hub/utils/_token.py:89: UserWarning: \n",
            "The secret `HF_TOKEN` does not exist in your Colab secrets.\n",
            "To authenticate with the Hugging Face Hub, create a token in your settings tab (https://huggingface.co/settings/tokens), set it as secret in your Google Colab and restart your session.\n",
            "You will be able to reuse this secret in all of your notebooks.\n",
            "Please note that authentication is recommended but still optional to access public models or datasets.\n",
            "  warnings.warn(\n",
            "/usr/local/lib/python3.10/dist-packages/transformers/tokenization_utils_base.py:1601: FutureWarning: `clean_up_tokenization_spaces` was not set. It will be set to `True` by default. This behavior will be depracted in transformers v4.45, and will be then set to `False` by default. For more details check this issue: https://github.com/huggingface/transformers/issues/31884\n",
            "  warnings.warn(\n",
            "Setting `pad_token_id` to `eos_token_id`:50256 for open-end generation.\n"
          ]
        },
        {
          "name": "stdout",
          "output_type": "stream",
          "text": [
            "Candidate 1 Insights:\n",
            "Recommendation: Do not recruit\n",
            "Reason: Low positive emotion scores or poor pacing.\n",
            "Average Speech Speed: 2.90 (words per minute)\n",
            "Transcript Analysis: Analyze the following transcript text for insights:  Hi, hope you're doing well. I'm Srivats Biyani. I am a PGP finance student at IIM Co-Ecode.  Now before joining IIM Co-Ecode, what all have I done? I am a chartered accountant and  I've also cleared CFA level 1. I interned with PWC for more than three years, did my  article shift basically from there and I worked in the statutory audit department. After clearing  CA, I worked with ITC limited in the internal audit department for almost 14 months after  which I joined IIM Co-Ecode for the MBA program. Now a little bit about my skills etc. So I  am a very analytical person. I love playing with numbers, you know, data sets, apply all  sorts of statistical tools, try and understand whatever possible outcomes or interpretations  are there from those numbers. I just love the idea about getting into the edtech space.  Education is something which I believe is the base or the source or basically just the  crux of any economy of the whole, not only the nation, of the whole world. If everyone  is educated, I think the whole problem, I think the major problem will be solved. So  this is the reason I am very fascinated about the idea that your company is providing and  I wish I will be able to expand the successful model that you've built in Japan and bring  that to India as well. So that is what I will aim to do if I am given an opportunity  to work with you. Thank you. I am Srivats Biyani. I am a PGP finance student at IIM Co-Ecode.  I am a chartered accountant and  I've also cleared CFA level 1. I interned with PWC for more than three years, did my article shift basically from there and I worked in the statutory audit department for almost 14 months after which I joined IIM Co-Ecode for the MBA program. Now a little bit about my skills etc. So I am a very analytical person. I love playing with numbers, you know, data sets, apply all  sorts of statistical tools, try and understand whatever possible outcomes or interpretations  are there from those numbers. I just love the idea about getting into the edtech space.  Education is something which I believe is the base or the\n"
          ]
        },
        {
          "name": "stderr",
          "output_type": "stream",
          "text": [
            "Setting `pad_token_id` to `eos_token_id`:50256 for open-end generation.\n"
          ]
        },
        {
          "name": "stdout",
          "output_type": "stream",
          "text": [
            "Candidate 2 Insights:\n",
            "Recommendation: Recruit\n",
            "Reason: Positive emotion scores and acceptable pacing.\n",
            "Average Speech Speed: 3.25 (words per minute)\n",
            "Transcript Analysis: Analyze the following transcript text for insights:  My name is Michael Ramos, I am from Patna, Bihar. I have done my schooling in Commerce and then  I went up to do my graduation in B.Com Honours. I have interned as an Accounting Associate  as well as a Tax Associate wherein I got the chance to apply all the knowledge that I had  learned in my B.Com to apply them in real life scenario. Apart from Academics, I have  been involved in a lot of extracurricular activities. I was the captain of the students  committee in my final school year and was also awarded the Best Student Award at the  end of the year. When I went up to college, I was the class representative which again  is the part of the students committee. Apart from that, I have been a part of Bad Scouts  and Guide for more than 5 years where I have completed several treks and was part of a  lot of activities that were based for social needs and for social cause. In my free time,  I like to read both fiction and non-fiction based on if I am feeling creative that day  or if I want to gain some info. The short term goal for me is to find a job where I  can apply the skill set and the knowledge that I have gained so far and build new skills  alongside. Whereas in the long term, I look for a role wherein I will be able to create  value. I look for bigger targets so that I can test myself. I need to figure myself during  the preliminary years so that when the superior targets are put, I am able to come up with  the best outcomes. I also need to be able to get the best results  from my work. I am also looking for a job where I can work with the students  committee  and the students  committee  to develop  the skills that I have learned so far. I am also looking for a job where I can work with the students  committee  to develop  the skills that I have learned so far. I am also looking for a job where I can work with the students  committee  to develop  the skills that I have learned so far. I am also looking for a job where I can work with the students  committee  to develop  the skills that I have learned so far. I am also looking for a job where I can work with the students  committee\n"
          ]
        },
        {
          "name": "stderr",
          "output_type": "stream",
          "text": [
            "Setting `pad_token_id` to `eos_token_id`:50256 for open-end generation.\n"
          ]
        },
        {
          "name": "stdout",
          "output_type": "stream",
          "text": [
            "Candidate 3 Insights:\n",
            "Recommendation: Do not recruit\n",
            "Reason: Low positive emotion scores or poor pacing.\n",
            "Average Speech Speed: 2.78 (words per minute)\n",
            "Transcript Analysis: Analyze the following transcript text for insights:  Hello, my name is Monique Mccormick. I'm from Guntur, Andhra Pradesh. I'm an engineering  graduate in electronics and communication field. My final year project is on performance  analysis of shift resistors. I qualified GATE and secured a rank of 5300. I've done my  internship at PSK VLSI Design Center, post which I worked in a school as academic advisor  under administration for 19 months. During my tenure, I've developed my interest and  inclination towards management, and I've provided my personal support to the school administration  in achieving their results. To expand my skill set and broaden my perspective, I've  undertook various courses such as consulting approach to problem solving, securities markets  by NASM and data science specialization by IBM, where I've learned Python, data analysis  and machine learning. Apart from my academics, I've undertook various positions at different  stages of my life. To mention a few, I was event coordinator at my college for two years.  I was elected student people leader of my school. I was also part of Sun NGO for the  past four years. If I have to talk about my strengths, I'm an adaptive and inquisitive  learner. I always, I'm always open to learning and exploring new things. I like taking up  challenges and I work hard with resilience to achieve my goals. I've never let any of  my opportunities down and worked on areas which require my improvement. My hobbies are,  I like playing badminton and chess. I like to dance and sometimes I would like to travel.  If given opportunity, I would utilize my knowledge and experience to help the company flourish  their aspiring results. I'm a very active learner and I'm always looking for opportunities to improve my skills. I'm a very active learner and I'm always looking for opportunities to improve my skills. I'm a very active learner and I'm always looking for opportunities to improve my skills. I'm a very active learner and I'm always looking for opportunities to improve my skills. I'm a very active learner and I'm always looking for opportunities to improve my skills. I'm a very active learner and I'm always looking for opportunities to improve my skills. I'm a very active learner and I'm always looking for opportunities to improve my skills. I'm a very\n"
          ]
        },
        {
          "name": "stderr",
          "output_type": "stream",
          "text": [
            "Setting `pad_token_id` to `eos_token_id`:50256 for open-end generation.\n"
          ]
        },
        {
          "name": "stdout",
          "output_type": "stream",
          "text": [
            "Candidate 4 Insights:\n",
            "Recommendation: Recruit\n",
            "Reason: Positive emotion scores and acceptable pacing.\n",
            "Average Speech Speed: 3.39 (words per minute)\n",
            "Transcript Analysis: Analyze the following transcript text for insights:  My name is Michael Guzman and I am 21 years old.  Hailing from a small family in Varanasi, I had been there most of my life, but MBA has  given me the experience of living alone for the first time, which has been quite tough  and challenging for me.  I completed my school being one of the top students of my batch and also being a part  of the school student council as the activity head of the school.  Later on, I gave the undergraduate entrance exam of BHU securing a rank in the top 1.2%  and pursued to become honours from Varanasi University, but unfortunately, due to COVID-19,  most of my college life was spent online.  During my very day days when I had the opportunity to put my foot in the college, I volunteered  as a member of the National Service Team, working towards the welfare of the society  through small yet powerful steps.  During lockdown, I helped in spreading awareness regarding COVID-19 being a part of an event  organising committee of my college.  I had an internship in a small steel manufacturing firm related to steel furniture in Varanasi  as a sales associate to get some practical experience.  I also interned in an accounting firm to gain knowledge and learn about the practical applications  of accounting in the real world.  Apart from my academics, I love to confidently say that I am an excellent guitar player and  learned the art of fingerstyle guitar, which at the time was not popular at my place and  hence I had to learn from various sources online myself.  I also run a small YouTube channel devoted to my passion for music and that is where  I upload my own arrangements as well as covers along with tutorials.  I have found that the role offered by your company has sparked interest in me as I believe  it would be a challenging and rewarding experience.  Moving towards the end, I would love to know if I am beside you during the next year's  hours.  Thank you! \n",
            "\n",
            "I am a student of the University of Varanasi.  I am a member of the National Service Team, and I am a member of the National Service Team's Student Council.  I am also a member of the National Service Team's Student Council.  I am also a member of the National Service Team's Student Council. \n"
          ]
        },
        {
          "name": "stderr",
          "output_type": "stream",
          "text": [
            "Setting `pad_token_id` to `eos_token_id`:50256 for open-end generation.\n"
          ]
        },
        {
          "name": "stdout",
          "output_type": "stream",
          "text": [
            "Candidate 5 Insights:\n",
            "Recommendation: Do not recruit\n",
            "Reason: Low positive emotion scores or poor pacing.\n",
            "Average Speech Speed: 2.28 (words per minute)\n",
            "Transcript Analysis: Analyze the following transcript text for insights:  Hello, I am Joseph Nichols. I belong to the heritage city of Varanasi. I have done my undergraduation  in earth science from Banaras Hindu University. And post that I have worked with the single  largest government owned reinsurer in the country called General Insurance Corporation  of India in their retrocession and reinsurance underwriting departments. My thorough understanding  of the Indian markets and analytical skills acquired due to working in such a diverse  and rich field such as reinsurance, along with my verbal and written communication skills  are the attributes which I feel make me the right fit for this job. As a person I believe  in the thought that you cannot find newer oceans until you lose sight of the shore.  This thought is something that pushes me each day towards having newer experiences.  While reading about your company and beside you, I understood that you guys want to create a  society where children can live their lives as they are and realize the uniqueness of each person  through artificial intelligence. This idea really resonated with me and I do wish to be a part of  this awakening. Thank you so much.  I am Joseph Nichols.  I am a professor of earth science at Banaras Hindu University.  I am a member of the National Institute of Science and Technology of India.  I am a member of the National Institute of Science and Technology of India.  I am a member of the National Institute of Science and Technology of India.  I am a member of the National Institute of Science and Technology of India.  I am a member of the National Institute of Science and Technology of India.  I am a member of the National Institute of Science and Technology of India.  I am a member of the National Institute of Science and Technology of India.  I am a member of the National Institute of Science and Technology of India.  I am a member of the National Institute of Science and Technology of India.  I am a member of the National Institute of Science and Technology of India.  I am a member of the National Institute of Science and Technology of India.  I am a member of the National Institute of Science and Technology of India.  I am a member of the National Institute of Science and Technology of India.  I am a member of the National Institute of Science and Technology of India.  I am a member of the National Institute of Science and Technology of India. \n"
          ]
        },
        {
          "name": "stderr",
          "output_type": "stream",
          "text": [
            "Setting `pad_token_id` to `eos_token_id`:50256 for open-end generation.\n"
          ]
        },
        {
          "name": "stdout",
          "output_type": "stream",
          "text": [
            "Candidate 6 Insights:\n",
            "Recommendation: Recruit\n",
            "Reason: Positive emotion scores and acceptable pacing.\n",
            "Average Speech Speed: 3.33 (words per minute)\n",
            "Transcript Analysis: Analyze the following transcript text for insights:  Hello, myself is Alexander Smith. I am a first year MBA student here at IIM Lucknow.  I come from a suburban part of India. I did my B.Tech in Agriculture Engineering, my M.Tech in Food Process Engineering.  During my M.Tech I co-founded an Agritech startup. I ran it for 10 months and generated around 1,000 surplus revenue.  Lastly, I was working in an Agritech farm. I was leading a project on the application of remote sensing IoT and artificial intelligence in the field of agriculture and allied sectors.  I am passionate about entrepreneurship and I am always interested in working in new challenging areas, mainly in the business development and strategy domain.  As I am besides you, concentrated on the fact that the online communication is turning like a black box lately and understanding those facial expressions behind the camera is getting harder and harder day by day.  So, having a deep learning algorithm that can analyze the facial expressions and provide a result that is more than 95% accurate will definitely help the civil society for a better human resource development and to maintain a better mental health graph.  As we know that the coming age is going to be the age of artificial intelligence and to be a part of such a noble cause where the artificial intelligence is the backbone will definitely motivate someone like me  who is always interested in working in the challenging areas, mainly where the artificial intelligence is the backbone for the development of the society. Thank you.  I am Alexander Smith.  I am a first year MBA student here at IIM Lucknow.  I came from a suburban part of India. I did my B.Tech in Agriculture Engineering, my M.Tech in Food Process Engineering.  During my M.Tech I co-founded an Agritech startup. I ran it for 10 months and generated around 1,000 surplus revenue.  Lastly, I was working in an Agritech farm. I was leading a project on the application of remote sensing IoT and artificial intelligence in the field of agriculture and allied sectors.  I am passionate about entrepreneurship and I am always interested in working in new challenging areas, mainly in the business development and strategy domain.  As I am besides you, concentrated on the fact that the online communication is turning like a black box lately and understanding those facial expressions behind the camera is getting harder and harder day by day.  So, having a deep\n"
          ]
        },
        {
          "name": "stderr",
          "output_type": "stream",
          "text": [
            "Setting `pad_token_id` to `eos_token_id`:50256 for open-end generation.\n"
          ]
        },
        {
          "name": "stdout",
          "output_type": "stream",
          "text": [
            "Candidate 7 Insights:\n",
            "Recommendation: Recruit\n",
            "Reason: Positive emotion scores and acceptable pacing.\n",
            "Average Speech Speed: 3.27 (words per minute)\n",
            "Transcript Analysis: Analyze the following transcript text for insights:  Hello, I am Beside You. I am Cameron Barajas and I am thrilled to apply to this opportunity  today. I recently completed my BBA in 2022. I have a flexible attitude. I can lead the  team and be a good team player according to the situation. I am a passionate individual  who aims for perfection in the task and I always try to give my best and reach the expectations.  In summer 2022, I interned in a boutique investment bank based out of Hyderabad. In this internship,  I worked closely with senior professionals. I was involved in developing the framework  of a venture network at the ideation stage. This venture network focused on providing  funds at the seed level and CD sale levels. I got an opportunity to discuss about startups  and what an investor should look for before investing in a startup. And I found this whole  process exciting. In addition to this, I interned with a startup known as Kabadi Techno. And  in this internship, I regularly discussed the growth of the startups and how a business  should be working with the founder. And I used to update my business model accordingly  according to our discussions. And my area of focus in this internship was on finance.  So I prepared the financial model to get a ballpark figure valuation of the startup.  So these two latest internships have provided me a comprehensive view of the company's perspective  and an investor's perspective. So now I am looking for a challenging role where I can  put my all skills to practice and grow at an acceleration rate. And this is what I am  Beside You is providing. Hence, I firmly believe that I am Beside You and I am a perfect fit.  Thank you.  I am Beside You.  I am Beside You.  I am Beside You.  I am Beside You.  I am Beside You.  I am Beside You.  I am Beside You.  I am Beside You.  I am Beside You.  I am Beside You.  I am Beside You.  I am Beside You.  I am Beside You.  I am Beside You.  I am Beside You.  I am Beside You.  I am Beside You.  I am Beside You.  I am Beside You.  I\n"
          ]
        },
        {
          "name": "stderr",
          "output_type": "stream",
          "text": [
            "Setting `pad_token_id` to `eos_token_id`:50256 for open-end generation.\n"
          ]
        },
        {
          "name": "stdout",
          "output_type": "stream",
          "text": [
            "Candidate 8 Insights:\n",
            "Recommendation: Do not recruit\n",
            "Reason: Low positive emotion scores or poor pacing.\n",
            "Average Speech Speed: 2.82 (words per minute)\n",
            "Transcript Analysis: Analyze the following transcript text for insights:  Hello, I'm Sakshi. I come from Mumbai. I did my undergraduation in mass media  with specialization in advertising. I have completed two  certification courses. One was entrepreneurship course by Turnip and  second one was foundations of management by Google. Apart from that, when I'm not  busy doing college group projects and assignments, I keep myself busy doing  various things like drawing, painting, singing, writing movie reviews on my  personal movie review account on Instagram. I also recently won an  international art competition hosted by the largest science channel on YouTube  called Krezkazad. They have over 19 million followers and it is one of my  biggest proudest achievements. Because I would like to spread  awareness about mental health issues and neurodevelopmental disorders, I have an  idea to share with you all. The idea goes as we get the AI to analyze what works  and what doesn't work for students with neurodevelopmental disorders like ADHD  and then coming up with a program or strategy or a plan to help these  students out through specialized programs with maybe teachers who have a certain  teaching style that just works well for kids like these and or  activities that help them stay focused or concentrate better. That's it. Thank you. I'm Sakshi. I'm Sakshi. I'm Sakshi. I'm Sakshi. I'm Sakshi. I'm Sakshi. I'm Sakshi. I'm Sakshi. I'm Sakshi. I'm Sakshi. I'm Sakshi. I'm Sakshi. I'm Sakshi. I'm Sakshi. I'm Sakshi. I'm Sakshi. I'm Sakshi. I'm Sakshi. I'm Sakshi. I'm Sakshi. I'm Sakshi. I'm Sakshi. I'm Sakshi. I'm Sakshi. I'm Sakshi. I'm Sakshi. I'm Sakshi. I'm Sakshi. I'm Sakshi. I'm Sakshi. I'm Sakshi. I'm Sakshi. I'm Sakshi. I'm Sakshi. I'm Sakshi. I'm Sakshi. I'm Sakshi. I'm Sakshi. I'm Sakshi. I'm Sakshi. I'm Sakshi. I'm Sakshi. I'm Sakshi. I'm Sakshi. I'm Sakshi. I'm Sakshi. I'm Sakshi\n"
          ]
        },
        {
          "name": "stderr",
          "output_type": "stream",
          "text": [
            "Setting `pad_token_id` to `eos_token_id`:50256 for open-end generation.\n"
          ]
        },
        {
          "name": "stdout",
          "output_type": "stream",
          "text": [
            "Candidate 9 Insights:\n",
            "Recommendation: Do not recruit\n",
            "Reason: Low positive emotion scores or poor pacing.\n",
            "Average Speech Speed: 3.11 (words per minute)\n",
            "Transcript Analysis: Analyze the following transcript text for insights:  Hello, I am Jeffrey Shepherd and I am currently pursuing postgraduate and management from  IIM Coikode. I have completed my B.Tech in Biotechnology from Heritage Institute of  Technology Kolkata, followed by my M.Tech from IIT Kharagpur. I come with an experience  of three years in the regulatory affairs domain of the pharmaceutical industry and I worked  as a medical writer in Ciro Klein Farm, Mumbai and have specialized in drug safety and risk  management. What sets me apart is the expertise I bring in with my three years of experience  and an added two years of postgraduation. Along with this, I add another dimension to  the discussion with my background in biotechnology. An added advantage is my ability to pay attention  to detail, which is well testamented in my research work and patents, publication and  the best research award which my work at IIT Kharagpur has received. After my 12th, I developed  a keen interest in baking and over time this has transitioned from a mere hobby into my  passion. I love experimenting with traditional recipes and regularly bake for family as well  as small functions. I also enjoy traveling, exploring new places, meeting new people and  experiencing different cultures. The core competencies which have helped me in my  professional career are mainly my consistency. I have consistently excelled in my academics  and this perseverance has also helped me grow in my professional career. In addition to this,  my ability to pay attention to minutest of details helps me to view a problem from  various angles and evaluate and analyze it to come to an effective solution. Thank you.  I am a graduate student in the Department of Biotechnology and I am currently pursuing a postgraduate degree in Biotechnology from IIT Kharagpur. I am currently pursuing a postgraduate degree in Biotechnology from IIT Kharagpur. I am currently pursuing a postgraduate degree in Biotechnology from IIT Kharagpur. I am currently pursuing a postgraduate degree in Biotechnology from IIT Kharagpur. I am currently pursuing a postgraduate degree in Biotechnology from IIT Kharagpur. I am currently pursuing a postgraduate degree in Biotechnology from IIT Kharagpur. I am currently pursuing a postgraduate degree in Biotechnology from IIT Kharagpur. I am currently pursuing a postgraduate degree in Biotechnology from IIT\n"
          ]
        },
        {
          "name": "stderr",
          "output_type": "stream",
          "text": [
            "Setting `pad_token_id` to `eos_token_id`:50256 for open-end generation.\n"
          ]
        },
        {
          "name": "stdout",
          "output_type": "stream",
          "text": [
            "Candidate 10 Insights:\n",
            "Recommendation: Recruit\n",
            "Reason: Positive emotion scores and acceptable pacing.\n",
            "Average Speech Speed: 2.58 (words per minute)\n",
            "Transcript Analysis: Analyze the following transcript text for insights:  Hi, my name is Nathan Lewis. I'm a first year MBA analytics student from IIM  Kashipur. From having a consulting experience at Deloitte for three years  after graduating in engineering, I paved my way to an MBA analytics degree to  quench my thirst for exploration into an amalgamation of a world of analytics  strategy and planning. During my time in Deloitte, I worked on end-to-end  validation processes for softwares for pharmaceutical clients. Also, my ongoing  post-graduation in MBA analytics has taken me closer to the field of analytics  in business. To fuel my constant need to take responsibilities, I am a member of  the media and public relations committee of our college. It lets me be a part of  the team who plans to create and apply for a promotion and PR strategies for  the college. I also handle the social media pages of the college. I have been a  content writer and editor for college related activities since graduation. I  love interacting with people and understanding them. The fact that IIM  beside you has a positive attitude towards mental health issues is  really an amazing thing. The company's very idea of trying to understand real  emotions, my increasing affinity towards analytics, my experience in strategizing  as a consultant and my love for learning are the reasons why I want to join this  internship. Thank you!                                                                                                                                                                                                             \n",
            "This concludes the analysis. Based on the EDA and prompt engineering, recruitment decisions can be made.\n"
          ]
        }
      ],
      "source": [
        "# Call functions as part of the notebook workflow\n",
        "plot_count = 1\n",
        "show_plots = False  # Set to False if you don't want to display plots\n",
        "\n",
        "# Introduction\n",
        "introduction()\n",
        "\n",
        "# Load and preprocess data\n",
        "emotion_data, transcript_data, transcript_text = load_and_preprocess_data()\n",
        "\n",
        "# Perform EDA on individual datasets\n",
        "eda_emotion_data(emotion_data, plot_count, show_plots)\n",
        "eda_transcript_data(transcript_data, plot_count, show_plots)\n",
        "eda_transcript_text(transcript_text, show_plots)\n",
        "\n",
        "# Analyze sentiment\n",
        "sentiment_scores = analyze_sentiment(transcript_text)\n",
        "print(f\"Sentiment Scores: {sentiment_scores}\")\n",
        "\n",
        "# Cluster candidates\n",
        "n_clusters = 3  # Define the number of clusters\n",
        "clusters = cluster_candidates(transcript_data, n_clusters)\n",
        "print(f\"Candidate Clusters: {clusters}\")\n",
        "\n",
        "# Generate actionable insights\n",
        "actionable_insights(emotion_data, transcript_data, transcript_text, model=\"gpt-2\")  # Or \"gpt-3.5-turbo\", \"davinci\", \"text-davinci-003\"\n",
        "\n",
        "# Conclusion\n",
        "conclusion()\n",
        "\n",
        "# Download all saved plots\n",
        "# download_all_plots(plot_count)"
      ]
    },
    {
      "cell_type": "markdown",
      "metadata": {
        "id": "ihV_1D6cFqZ9"
      },
      "source": [
        "# Candidate Evaluation Report\n",
        "\n",
        "## Sentiment Scores\n",
        "- 0.16197\n",
        "- 0.25542\n",
        "- -0.09755\n",
        "- 0.14175\n",
        "- 0.07089\n",
        "- 0.02950\n",
        "- 0.33\n",
        "- 0.06643\n",
        "- 0.14418\n",
        "- 0.21130\n",
        "\n",
        "## Candidate Clusters\n",
        "- 2\n",
        "- 0\n",
        "- 2\n",
        "- 0\n",
        "- 1\n",
        "- 0\n",
        "- 0\n",
        "- 2\n",
        "- 0\n",
        "- 1\n"
      ]
    },
    {
      "cell_type": "markdown",
      "metadata": {
        "id": "R4HEL1yZHEGu"
      },
      "source": [
        "## Candidate Insights\n",
        "\n",
        "### Candidate 1 Insights\n",
        "<span style=\"color: red;\">**Recommendation:** Do not recruit</span>  \n",
        "**Reason:** Low positive emotion scores or poor pacing.  \n",
        "**Average Speech Speed:** 2.90 words per minute  \n",
        "\n",
        "**Transcript Analysis:**  \n",
        "> Hi, hope you're doing well. I'm Srivats Biyani. I am a PGP finance student at IIM Co-Ecode. Now before joining IIM Co-Ecode, what all have I done? I am a chartered accountant and I've also cleared CFA level 1. I interned with PWC for more than three years, ....................from those numbers. I just love the idea about getting into the ed...\n",
        "\n",
        "### Candidate 2 Insights\n",
        "<span style=\"color: green;\">**Recommendation:** Recruit</span>  \n",
        "**Reason:** Positive emotion scores and acceptable pacing.  \n",
        "**Average Speech Speed:** 3.25 words per minute  \n",
        "\n",
        "**Transcript Analysis:**  \n",
        "> My name is Michael Ramos, I am from Patna, Bihar. I have done my schooling in Commerce and then I went up to do my graduation in B.Com Honours. ... I look for bigger targets so that I can test myself. I need to figure myself during the preliminary years so that when the superior targets are put, I am able to come up with the best outcomes. I am also looking for a job where I can work with the students committee to develop the skills that I have learned so far.\n",
        "\n",
        "### Candidate 3 Insights\n",
        "<span style=\"color: red;\">**Recommendation:** Do not recruit</span>  \n",
        "**Reason:** Low positive emotion scores or poor pacing.  \n",
        "**Average Speech Speed:** 2.78 words per minute  \n",
        "\n",
        "**Transcript Analysis:**  \n",
        "> Hello, my name is Monique Mccormick. I'm from Guntur, Andhra Pradesh. I'm an engineering graduate in electronics and communication field. My final year project is on performance analysis of shift resistors. ... I'm a very active learner and I'm always looking for opportunities to improve my skills.\n",
        "\n",
        "### Candidate 4 Insights\n",
        "<span style=\"color: green;\">**Recommendation:** Recruit</span>  \n",
        "**Reason:** Positive emotion scores and acceptable pacing.  \n",
        "**Average Speech Speed:** 3.39 words per minute  \n",
        "\n",
        "**Transcript Analysis:**  \n",
        "> My name is Michael Guzman and I am 21 years old. Hailing from a small family in Varanasi, I had been there most of my life, but MBA has given me the experience of living alone for the first time, which has been quite tough and challenging for me. ... I would love to know if I am beside you during the next year's hours. Thank you!\n",
        "\n",
        "### Candidate 5 Insights\n",
        "<span style=\"color: red;\">**Recommendation:** Do not recruit</span>  \n",
        "**Reason:** Low positive emotion scores or poor pacing.  \n",
        "**Average Speech Speed:** 2.28 words per minute  \n",
        "\n",
        "**Transcript Analysis:**  \n",
        "> Hello, I am Joseph Nichols. I belong to the heritage city of Varanasi. I have done my undergraduation in earth science from Banaras Hindu University. ... This idea really resonated with me and I do wish to be a part of this awakening. Thank you so much!\n",
        "\n",
        "### Candidate 6 Insights\n",
        "<span style=\"color: green;\">**Recommendation:** Recruit</span>  \n",
        "**Reason:** Positive emotion scores and acceptable pacing.  \n",
        "**Average Speech Speed:** 3.33 words per minute  \n",
        "\n",
        "**Transcript Analysis:**  \n",
        "> Hello, myself is Alexander Smith. I am a first year MBA student here at IIM Lucknow. I come from a suburban part of India. I did my B.Tech in Agriculture Engineering, my M.Tech in Food Process Engineering. ... Thank you.\n",
        "\n",
        "### Candidate 7 Insights\n",
        "<span style=\"color: green;\">**Recommendation:** Recruit</span>  \n",
        "**Reason:** Positive emotion scores and acceptable pacing.  \n",
        "**Average Speech Speed:** 3.27 words per minute  \n",
        "\n",
        "**Transcript Analysis:**  \n",
        "> Hello, I am Cameron Barajas and I am thrilled to apply to this opportunity today. I recently completed my BBA in 2022. I have a flexible attitude and can lead the team while being a good team player. ... Thank you.\n",
        "\n",
        "### Candidate 8 Insights\n",
        "<span style=\"color: red;\">**Recommendation:** Do not recruit</span>  \n",
        "**Reason:** Low positive emotion scores or poor pacing.  \n",
        "**Average Speech Speed:** 2.82 words per minute  \n",
        "\n",
        "**Transcript Analysis:**  \n",
        "> Hello, I'm Sakshi. I come from Mumbai. I did my undergraduation in mass media with specialization in advertising. ... That's it. Thank you.\n",
        "\n",
        "### Candidate 9 Insights\n",
        "<span style=\"color: red;\">**Recommendation:** Do not recruit</span>  \n",
        "**Reason:** Low positive emotion scores or poor pacing.  \n",
        "**Average Speech Speed:** 3.11 words per minute  \n",
        "\n",
        "**Transcript Analysis:**  \n",
        "> Hello, I am Jeffrey Shepherd and I am currently pursuing postgraduate management from IIM Coikode. I have completed my B.Tech in Biotechnology from Heritage Institute of Technology Kolkata... Thank you.\n",
        "\n",
        "### Candidate 10 Insights\n",
        "<span style=\"color: green;\">**Recommendation:** Recruit</span>  \n",
        "**Reason:** Positive emotion scores and acceptable pacing.  \n",
        "**Average Speech Speed:** 2.58 words per minute  \n",
        "\n",
        "**Transcript Analysis:**  \n",
        "> Hi, my name is Nathan Lewis. I'm a first-year MBA analytics student from IIM Kashipur. From having a consulting experience at Deloitte for three years after graduating in engineering... Thank you!\n"
      ]
    },
    {
      "cell_type": "markdown",
      "metadata": {},
      "source": [
        "### Summary of Candidate Insights\n",
        "\n",
        "#### Recruited Candidates\n",
        "1. <span style=\"color: green;\">Candidate 2: Michael Ramos</span>  \n",
        "2. <span style=\"color: green;\">Candidate 4: Michael Guzman</span>  \n",
        "3. <span style=\"color: green;\">Candidate 6: Alexander Smith</span>  \n",
        "4. <span style=\"color: green;\">Candidate 7: Cameron Barajas</span>  \n",
        "5. <span style=\"color: green;\">Candidate 10: Nathan Lewis</span>  \n",
        "\n",
        "#### Non-Recruited Candidates\n",
        "1. <span style=\"color: red;\">Candidate 1: Srivats Biyani</span>  \n",
        "2. <span style=\"color: red;\">Candidate 3: Monique Mccormick</span>  \n",
        "3. <span style=\"color: red;\">Candidate 5: Joseph Nichols</span>  \n",
        "4. <span style=\"color: red;\">Candidate 8: Sakshi</span>  \n",
        "5. <span style=\"color: red;\">Candidate 9: Jeffrey Shepherd</span>  \n"
      ]
    },
    {
      "cell_type": "code",
      "execution_count": null,
      "metadata": {},
      "outputs": [],
      "source": []
    }
  ],
  "metadata": {
    "colab": {
      "provenance": []
    },
    "kernelspec": {
      "display_name": "Python 3",
      "name": "python3"
    },
    "language_info": {
      "name": "python"
    }
  },
  "nbformat": 4,
  "nbformat_minor": 0
}
